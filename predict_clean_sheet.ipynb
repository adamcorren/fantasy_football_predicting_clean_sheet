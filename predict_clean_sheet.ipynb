{
 "cells": [
  {
   "cell_type": "markdown",
   "id": "a5826338",
   "metadata": {},
   "source": [
    "# Fantasy Football - Predicting Clean Sheets"
   ]
  },
  {
   "cell_type": "markdown",
   "id": "024b2bac",
   "metadata": {},
   "source": [
    "In this notebook, we use the goal predicting model developed in the previous notebook to estimate the probability of a team achieving a clean sheet (clean sheet is when a team concededs 0 goals in a game)."
   ]
  },
  {
   "cell_type": "code",
   "execution_count": 1,
   "id": "01c0ece4",
   "metadata": {},
   "outputs": [],
   "source": [
    "import pandas as pd\n",
    "import warnings\n",
    "from functools import reduce\n",
    "import itertools\n",
    "import numpy as np\n",
    "import sklearn.preprocessing as preprocessing\n",
    "import sklearn.model_selection as model_selection\n",
    "from sklearn import linear_model\n",
    "from sklearn.model_selection import train_test_split, cross_val_score\n",
    "from sklearn import linear_model\n",
    "from joblib import dump, load"
   ]
  },
  {
   "cell_type": "code",
   "execution_count": 2,
   "id": "ce0e5777",
   "metadata": {},
   "outputs": [],
   "source": [
    "pd.set_option('display.max_columns', None)\n",
    "pd.set_option('display.max_rows', None)\n",
    "warnings.filterwarnings(\"ignore\")"
   ]
  },
  {
   "cell_type": "markdown",
   "id": "8eeda1f0",
   "metadata": {},
   "source": [
    "Player points are determined using the predicted goals and conceded metrics. To begin, we calculate the percentage chance of a team keeping a clean sheet. In cases where a player did not participate in a game, we can retain the inaccurate clean sheet data, as we will assign zero points to those players regardless."
   ]
  },
  {
   "cell_type": "code",
   "execution_count": 3,
   "id": "c5f79a4f",
   "metadata": {},
   "outputs": [],
   "source": [
    "predict_goals = pd.read_csv('data/predicting_team_goals.csv')"
   ]
  },
  {
   "cell_type": "code",
   "execution_count": 4,
   "id": "b6fdf832",
   "metadata": {},
   "outputs": [
    {
     "data": {
      "text/html": [
       "<div>\n",
       "<style scoped>\n",
       "    .dataframe tbody tr th:only-of-type {\n",
       "        vertical-align: middle;\n",
       "    }\n",
       "\n",
       "    .dataframe tbody tr th {\n",
       "        vertical-align: top;\n",
       "    }\n",
       "\n",
       "    .dataframe thead th {\n",
       "        text-align: right;\n",
       "    }\n",
       "</style>\n",
       "<table border=\"1\" class=\"dataframe\">\n",
       "  <thead>\n",
       "    <tr style=\"text-align: right;\">\n",
       "      <th></th>\n",
       "      <th>season</th>\n",
       "      <th>fpl_game_week</th>\n",
       "      <th>team</th>\n",
       "      <th>opponent</th>\n",
       "      <th>team_goals</th>\n",
       "      <th>opponent_goals</th>\n",
       "      <th>pred_goals_scored</th>\n",
       "      <th>pred_goals_conceded</th>\n",
       "    </tr>\n",
       "  </thead>\n",
       "  <tbody>\n",
       "    <tr>\n",
       "      <th>0</th>\n",
       "      <td>2017-2018</td>\n",
       "      <td>6</td>\n",
       "      <td>Watford</td>\n",
       "      <td>Swansea City</td>\n",
       "      <td>2.0</td>\n",
       "      <td>1.0</td>\n",
       "      <td>1.213222</td>\n",
       "      <td>1.545529</td>\n",
       "    </tr>\n",
       "    <tr>\n",
       "      <th>1</th>\n",
       "      <td>2017-2018</td>\n",
       "      <td>6</td>\n",
       "      <td>Swansea City</td>\n",
       "      <td>Watford</td>\n",
       "      <td>1.0</td>\n",
       "      <td>2.0</td>\n",
       "      <td>1.545529</td>\n",
       "      <td>1.213222</td>\n",
       "    </tr>\n",
       "    <tr>\n",
       "      <th>2</th>\n",
       "      <td>2017-2018</td>\n",
       "      <td>6</td>\n",
       "      <td>Burnley</td>\n",
       "      <td>Huddersfield</td>\n",
       "      <td>0.0</td>\n",
       "      <td>0.0</td>\n",
       "      <td>1.534140</td>\n",
       "      <td>0.882562</td>\n",
       "    </tr>\n",
       "    <tr>\n",
       "      <th>3</th>\n",
       "      <td>2017-2018</td>\n",
       "      <td>6</td>\n",
       "      <td>Huddersfield</td>\n",
       "      <td>Burnley</td>\n",
       "      <td>0.0</td>\n",
       "      <td>0.0</td>\n",
       "      <td>0.882562</td>\n",
       "      <td>1.534140</td>\n",
       "    </tr>\n",
       "    <tr>\n",
       "      <th>4</th>\n",
       "      <td>2017-2018</td>\n",
       "      <td>6</td>\n",
       "      <td>Crystal Palace</td>\n",
       "      <td>Manchester City</td>\n",
       "      <td>0.0</td>\n",
       "      <td>5.0</td>\n",
       "      <td>0.389978</td>\n",
       "      <td>2.447532</td>\n",
       "    </tr>\n",
       "  </tbody>\n",
       "</table>\n",
       "</div>"
      ],
      "text/plain": [
       "      season  fpl_game_week            team         opponent  team_goals   \n",
       "0  2017-2018              6         Watford     Swansea City         2.0  \\\n",
       "1  2017-2018              6    Swansea City          Watford         1.0   \n",
       "2  2017-2018              6         Burnley     Huddersfield         0.0   \n",
       "3  2017-2018              6    Huddersfield          Burnley         0.0   \n",
       "4  2017-2018              6  Crystal Palace  Manchester City         0.0   \n",
       "\n",
       "   opponent_goals  pred_goals_scored  pred_goals_conceded  \n",
       "0             1.0           1.213222             1.545529  \n",
       "1             2.0           1.545529             1.213222  \n",
       "2             0.0           1.534140             0.882562  \n",
       "3             0.0           0.882562             1.534140  \n",
       "4             5.0           0.389978             2.447532  "
      ]
     },
     "execution_count": 4,
     "metadata": {},
     "output_type": "execute_result"
    }
   ],
   "source": [
    "predict_goals.head()"
   ]
  },
  {
   "cell_type": "markdown",
   "id": "a94c2e90",
   "metadata": {},
   "source": [
    "Adding clean sheet column."
   ]
  },
  {
   "cell_type": "code",
   "execution_count": 5,
   "id": "5c96dc50",
   "metadata": {},
   "outputs": [],
   "source": [
    "predict_goals['clean_sheet'] = (predict_goals.opponent_goals == 0).astype(int)"
   ]
  },
  {
   "cell_type": "code",
   "execution_count": 6,
   "id": "5a5384b2",
   "metadata": {},
   "outputs": [
    {
     "data": {
      "text/html": [
       "<div>\n",
       "<style scoped>\n",
       "    .dataframe tbody tr th:only-of-type {\n",
       "        vertical-align: middle;\n",
       "    }\n",
       "\n",
       "    .dataframe tbody tr th {\n",
       "        vertical-align: top;\n",
       "    }\n",
       "\n",
       "    .dataframe thead th {\n",
       "        text-align: right;\n",
       "    }\n",
       "</style>\n",
       "<table border=\"1\" class=\"dataframe\">\n",
       "  <thead>\n",
       "    <tr style=\"text-align: right;\">\n",
       "      <th></th>\n",
       "      <th>season</th>\n",
       "      <th>fpl_game_week</th>\n",
       "      <th>team</th>\n",
       "      <th>opponent</th>\n",
       "      <th>team_goals</th>\n",
       "      <th>opponent_goals</th>\n",
       "      <th>pred_goals_scored</th>\n",
       "      <th>pred_goals_conceded</th>\n",
       "      <th>clean_sheet</th>\n",
       "    </tr>\n",
       "  </thead>\n",
       "  <tbody>\n",
       "    <tr>\n",
       "      <th>0</th>\n",
       "      <td>2017-2018</td>\n",
       "      <td>6</td>\n",
       "      <td>Watford</td>\n",
       "      <td>Swansea City</td>\n",
       "      <td>2.0</td>\n",
       "      <td>1.0</td>\n",
       "      <td>1.213222</td>\n",
       "      <td>1.545529</td>\n",
       "      <td>0</td>\n",
       "    </tr>\n",
       "    <tr>\n",
       "      <th>1</th>\n",
       "      <td>2017-2018</td>\n",
       "      <td>6</td>\n",
       "      <td>Swansea City</td>\n",
       "      <td>Watford</td>\n",
       "      <td>1.0</td>\n",
       "      <td>2.0</td>\n",
       "      <td>1.545529</td>\n",
       "      <td>1.213222</td>\n",
       "      <td>0</td>\n",
       "    </tr>\n",
       "    <tr>\n",
       "      <th>2</th>\n",
       "      <td>2017-2018</td>\n",
       "      <td>6</td>\n",
       "      <td>Burnley</td>\n",
       "      <td>Huddersfield</td>\n",
       "      <td>0.0</td>\n",
       "      <td>0.0</td>\n",
       "      <td>1.534140</td>\n",
       "      <td>0.882562</td>\n",
       "      <td>1</td>\n",
       "    </tr>\n",
       "    <tr>\n",
       "      <th>3</th>\n",
       "      <td>2017-2018</td>\n",
       "      <td>6</td>\n",
       "      <td>Huddersfield</td>\n",
       "      <td>Burnley</td>\n",
       "      <td>0.0</td>\n",
       "      <td>0.0</td>\n",
       "      <td>0.882562</td>\n",
       "      <td>1.534140</td>\n",
       "      <td>1</td>\n",
       "    </tr>\n",
       "    <tr>\n",
       "      <th>4</th>\n",
       "      <td>2017-2018</td>\n",
       "      <td>6</td>\n",
       "      <td>Crystal Palace</td>\n",
       "      <td>Manchester City</td>\n",
       "      <td>0.0</td>\n",
       "      <td>5.0</td>\n",
       "      <td>0.389978</td>\n",
       "      <td>2.447532</td>\n",
       "      <td>0</td>\n",
       "    </tr>\n",
       "  </tbody>\n",
       "</table>\n",
       "</div>"
      ],
      "text/plain": [
       "      season  fpl_game_week            team         opponent  team_goals   \n",
       "0  2017-2018              6         Watford     Swansea City         2.0  \\\n",
       "1  2017-2018              6    Swansea City          Watford         1.0   \n",
       "2  2017-2018              6         Burnley     Huddersfield         0.0   \n",
       "3  2017-2018              6    Huddersfield          Burnley         0.0   \n",
       "4  2017-2018              6  Crystal Palace  Manchester City         0.0   \n",
       "\n",
       "   opponent_goals  pred_goals_scored  pred_goals_conceded  clean_sheet  \n",
       "0             1.0           1.213222             1.545529            0  \n",
       "1             2.0           1.545529             1.213222            0  \n",
       "2             0.0           1.534140             0.882562            1  \n",
       "3             0.0           0.882562             1.534140            1  \n",
       "4             5.0           0.389978             2.447532            0  "
      ]
     },
     "execution_count": 6,
     "metadata": {},
     "output_type": "execute_result"
    }
   ],
   "source": [
    "predict_goals.head()"
   ]
  },
  {
   "cell_type": "markdown",
   "id": "e7756e68",
   "metadata": {},
   "source": [
    "Predicting clean sheet probability model."
   ]
  },
  {
   "cell_type": "code",
   "execution_count": 7,
   "id": "00753a97",
   "metadata": {},
   "outputs": [],
   "source": [
    "x = predict_goals[['pred_goals_scored', 'pred_goals_conceded']]"
   ]
  },
  {
   "cell_type": "code",
   "execution_count": 8,
   "id": "379042dc",
   "metadata": {},
   "outputs": [
    {
     "data": {
      "text/plain": [
       "Index(['pred_goals_scored', 'pred_goals_conceded'], dtype='object')"
      ]
     },
     "execution_count": 8,
     "metadata": {},
     "output_type": "execute_result"
    }
   ],
   "source": [
    "x.columns"
   ]
  },
  {
   "cell_type": "code",
   "execution_count": 9,
   "id": "f08709ec",
   "metadata": {},
   "outputs": [],
   "source": [
    "x = x[x.columns[0:]] \n",
    "ss = preprocessing.StandardScaler()\n",
    "x = pd.DataFrame(ss.fit_transform(x),columns = x.columns)"
   ]
  },
  {
   "cell_type": "code",
   "execution_count": 10,
   "id": "86dd0942",
   "metadata": {},
   "outputs": [],
   "source": [
    "y = predict_goals.clean_sheet"
   ]
  },
  {
   "cell_type": "code",
   "execution_count": 11,
   "id": "a1b5dcd9",
   "metadata": {},
   "outputs": [],
   "source": [
    "x_train, x_test, y_train, y_test = model_selection.train_test_split(\n",
    "    x, y, train_size=0.75, test_size=0.25, random_state=1)"
   ]
  },
  {
   "cell_type": "code",
   "execution_count": 12,
   "id": "981f7014",
   "metadata": {},
   "outputs": [
    {
     "data": {
      "text/html": [
       "<style>#sk-container-id-1 {color: black;background-color: white;}#sk-container-id-1 pre{padding: 0;}#sk-container-id-1 div.sk-toggleable {background-color: white;}#sk-container-id-1 label.sk-toggleable__label {cursor: pointer;display: block;width: 100%;margin-bottom: 0;padding: 0.3em;box-sizing: border-box;text-align: center;}#sk-container-id-1 label.sk-toggleable__label-arrow:before {content: \"▸\";float: left;margin-right: 0.25em;color: #696969;}#sk-container-id-1 label.sk-toggleable__label-arrow:hover:before {color: black;}#sk-container-id-1 div.sk-estimator:hover label.sk-toggleable__label-arrow:before {color: black;}#sk-container-id-1 div.sk-toggleable__content {max-height: 0;max-width: 0;overflow: hidden;text-align: left;background-color: #f0f8ff;}#sk-container-id-1 div.sk-toggleable__content pre {margin: 0.2em;color: black;border-radius: 0.25em;background-color: #f0f8ff;}#sk-container-id-1 input.sk-toggleable__control:checked~div.sk-toggleable__content {max-height: 200px;max-width: 100%;overflow: auto;}#sk-container-id-1 input.sk-toggleable__control:checked~label.sk-toggleable__label-arrow:before {content: \"▾\";}#sk-container-id-1 div.sk-estimator input.sk-toggleable__control:checked~label.sk-toggleable__label {background-color: #d4ebff;}#sk-container-id-1 div.sk-label input.sk-toggleable__control:checked~label.sk-toggleable__label {background-color: #d4ebff;}#sk-container-id-1 input.sk-hidden--visually {border: 0;clip: rect(1px 1px 1px 1px);clip: rect(1px, 1px, 1px, 1px);height: 1px;margin: -1px;overflow: hidden;padding: 0;position: absolute;width: 1px;}#sk-container-id-1 div.sk-estimator {font-family: monospace;background-color: #f0f8ff;border: 1px dotted black;border-radius: 0.25em;box-sizing: border-box;margin-bottom: 0.5em;}#sk-container-id-1 div.sk-estimator:hover {background-color: #d4ebff;}#sk-container-id-1 div.sk-parallel-item::after {content: \"\";width: 100%;border-bottom: 1px solid gray;flex-grow: 1;}#sk-container-id-1 div.sk-label:hover label.sk-toggleable__label {background-color: #d4ebff;}#sk-container-id-1 div.sk-serial::before {content: \"\";position: absolute;border-left: 1px solid gray;box-sizing: border-box;top: 0;bottom: 0;left: 50%;z-index: 0;}#sk-container-id-1 div.sk-serial {display: flex;flex-direction: column;align-items: center;background-color: white;padding-right: 0.2em;padding-left: 0.2em;position: relative;}#sk-container-id-1 div.sk-item {position: relative;z-index: 1;}#sk-container-id-1 div.sk-parallel {display: flex;align-items: stretch;justify-content: center;background-color: white;position: relative;}#sk-container-id-1 div.sk-item::before, #sk-container-id-1 div.sk-parallel-item::before {content: \"\";position: absolute;border-left: 1px solid gray;box-sizing: border-box;top: 0;bottom: 0;left: 50%;z-index: -1;}#sk-container-id-1 div.sk-parallel-item {display: flex;flex-direction: column;z-index: 1;position: relative;background-color: white;}#sk-container-id-1 div.sk-parallel-item:first-child::after {align-self: flex-end;width: 50%;}#sk-container-id-1 div.sk-parallel-item:last-child::after {align-self: flex-start;width: 50%;}#sk-container-id-1 div.sk-parallel-item:only-child::after {width: 0;}#sk-container-id-1 div.sk-dashed-wrapped {border: 1px dashed gray;margin: 0 0.4em 0.5em 0.4em;box-sizing: border-box;padding-bottom: 0.4em;background-color: white;}#sk-container-id-1 div.sk-label label {font-family: monospace;font-weight: bold;display: inline-block;line-height: 1.2em;}#sk-container-id-1 div.sk-label-container {text-align: center;}#sk-container-id-1 div.sk-container {/* jupyter's `normalize.less` sets `[hidden] { display: none; }` but bootstrap.min.css set `[hidden] { display: none !important; }` so we also need the `!important` here to be able to override the default hidden behavior on the sphinx rendered scikit-learn.org. See: https://github.com/scikit-learn/scikit-learn/issues/21755 */display: inline-block !important;position: relative;}#sk-container-id-1 div.sk-text-repr-fallback {display: none;}</style><div id=\"sk-container-id-1\" class=\"sk-top-container\"><div class=\"sk-text-repr-fallback\"><pre>BayesianRidge()</pre><b>In a Jupyter environment, please rerun this cell to show the HTML representation or trust the notebook. <br />On GitHub, the HTML representation is unable to render, please try loading this page with nbviewer.org.</b></div><div class=\"sk-container\" hidden><div class=\"sk-item\"><div class=\"sk-estimator sk-toggleable\"><input class=\"sk-toggleable__control sk-hidden--visually\" id=\"sk-estimator-id-1\" type=\"checkbox\" checked><label for=\"sk-estimator-id-1\" class=\"sk-toggleable__label sk-toggleable__label-arrow\">BayesianRidge</label><div class=\"sk-toggleable__content\"><pre>BayesianRidge()</pre></div></div></div></div></div>"
      ],
      "text/plain": [
       "BayesianRidge()"
      ]
     },
     "execution_count": 12,
     "metadata": {},
     "output_type": "execute_result"
    }
   ],
   "source": [
    "reg_bay = linear_model.BayesianRidge()\n",
    "reg_bay.fit(x_train, y_train)"
   ]
  },
  {
   "cell_type": "code",
   "execution_count": 13,
   "id": "b448be60",
   "metadata": {},
   "outputs": [
    {
     "name": "stdout",
     "output_type": "stream",
     "text": [
      "Bayesian Ridge Regressor results:\n",
      "MAE = -0.3667\n",
      "RSME = -0.4271\n",
      "R2 = 0.0957\n"
     ]
    }
   ],
   "source": [
    "print(\"Bayesian Ridge Regressor results:\")\n",
    "cv_mae = cross_val_score(reg_bay, x_train, y_train, cv=10,scoring='neg_mean_absolute_error')\n",
    "cv_rmse = cross_val_score(reg_bay, x_train, y_train, cv=10,scoring='neg_root_mean_squared_error')\n",
    "cv_r2 = cross_val_score(reg_bay, x_train, y_train, cv=10,scoring='r2')\n",
    "print('MAE =',round(cv_mae.mean(),4))\n",
    "print('RSME =',round(cv_rmse.mean(),4))\n",
    "print('R2 =',round(cv_r2.mean(),4))"
   ]
  },
  {
   "cell_type": "code",
   "execution_count": 14,
   "id": "0d634c55",
   "metadata": {},
   "outputs": [],
   "source": [
    "predict_goals['cleen_sheet_prob'] = reg_bay.predict(x)"
   ]
  },
  {
   "cell_type": "markdown",
   "id": "5eb2fc70",
   "metadata": {},
   "source": [
    "Exporting model for later use."
   ]
  },
  {
   "cell_type": "code",
   "execution_count": 15,
   "id": "0b65d11c",
   "metadata": {},
   "outputs": [
    {
     "data": {
      "text/plain": [
       "['predict_clean_sheet_model.joblib']"
      ]
     },
     "execution_count": 15,
     "metadata": {},
     "output_type": "execute_result"
    }
   ],
   "source": [
    "dump(reg_bay, 'predict_clean_sheet_model.joblib') "
   ]
  },
  {
   "cell_type": "markdown",
   "id": "3d64797e",
   "metadata": {},
   "source": [
    "Removing all negative values and replacing season values to match main df."
   ]
  },
  {
   "cell_type": "code",
   "execution_count": 16,
   "id": "d8a3391d",
   "metadata": {},
   "outputs": [],
   "source": [
    "predict_goals.loc[predict_goals.cleen_sheet_prob<.01, 'cleen_sheet_prob'] = 0.01"
   ]
  },
  {
   "cell_type": "code",
   "execution_count": 17,
   "id": "3670dc09",
   "metadata": {},
   "outputs": [],
   "source": [
    "predict_goals['season'] = predict_goals.season.str.replace('2017-2018', '2017-18').str.replace('2018-2019', '2018-19')"
   ]
  },
  {
   "cell_type": "code",
   "execution_count": 18,
   "id": "c333fdaa",
   "metadata": {},
   "outputs": [
    {
     "data": {
      "text/html": [
       "<div>\n",
       "<style scoped>\n",
       "    .dataframe tbody tr th:only-of-type {\n",
       "        vertical-align: middle;\n",
       "    }\n",
       "\n",
       "    .dataframe tbody tr th {\n",
       "        vertical-align: top;\n",
       "    }\n",
       "\n",
       "    .dataframe thead th {\n",
       "        text-align: right;\n",
       "    }\n",
       "</style>\n",
       "<table border=\"1\" class=\"dataframe\">\n",
       "  <thead>\n",
       "    <tr style=\"text-align: right;\">\n",
       "      <th></th>\n",
       "      <th>season</th>\n",
       "      <th>fpl_game_week</th>\n",
       "      <th>team</th>\n",
       "      <th>opponent</th>\n",
       "      <th>team_goals</th>\n",
       "      <th>opponent_goals</th>\n",
       "      <th>pred_goals_scored</th>\n",
       "      <th>pred_goals_conceded</th>\n",
       "      <th>clean_sheet</th>\n",
       "      <th>cleen_sheet_prob</th>\n",
       "    </tr>\n",
       "  </thead>\n",
       "  <tbody>\n",
       "    <tr>\n",
       "      <th>0</th>\n",
       "      <td>2017-18</td>\n",
       "      <td>6</td>\n",
       "      <td>Watford</td>\n",
       "      <td>Swansea City</td>\n",
       "      <td>2.0</td>\n",
       "      <td>1.0</td>\n",
       "      <td>1.213222</td>\n",
       "      <td>1.545529</td>\n",
       "      <td>0</td>\n",
       "      <td>0.237033</td>\n",
       "    </tr>\n",
       "    <tr>\n",
       "      <th>1</th>\n",
       "      <td>2017-18</td>\n",
       "      <td>6</td>\n",
       "      <td>Swansea City</td>\n",
       "      <td>Watford</td>\n",
       "      <td>1.0</td>\n",
       "      <td>2.0</td>\n",
       "      <td>1.545529</td>\n",
       "      <td>1.213222</td>\n",
       "      <td>0</td>\n",
       "      <td>0.324177</td>\n",
       "    </tr>\n",
       "    <tr>\n",
       "      <th>2</th>\n",
       "      <td>2017-18</td>\n",
       "      <td>6</td>\n",
       "      <td>Burnley</td>\n",
       "      <td>Huddersfield</td>\n",
       "      <td>0.0</td>\n",
       "      <td>0.0</td>\n",
       "      <td>1.534140</td>\n",
       "      <td>0.882562</td>\n",
       "      <td>1</td>\n",
       "      <td>0.377977</td>\n",
       "    </tr>\n",
       "    <tr>\n",
       "      <th>3</th>\n",
       "      <td>2017-18</td>\n",
       "      <td>6</td>\n",
       "      <td>Huddersfield</td>\n",
       "      <td>Burnley</td>\n",
       "      <td>0.0</td>\n",
       "      <td>0.0</td>\n",
       "      <td>0.882562</td>\n",
       "      <td>1.534140</td>\n",
       "      <td>1</td>\n",
       "      <td>0.207109</td>\n",
       "    </tr>\n",
       "    <tr>\n",
       "      <th>4</th>\n",
       "      <td>2017-18</td>\n",
       "      <td>6</td>\n",
       "      <td>Crystal Palace</td>\n",
       "      <td>Manchester City</td>\n",
       "      <td>0.0</td>\n",
       "      <td>5.0</td>\n",
       "      <td>0.389978</td>\n",
       "      <td>2.447532</td>\n",
       "      <td>0</td>\n",
       "      <td>0.010000</td>\n",
       "    </tr>\n",
       "  </tbody>\n",
       "</table>\n",
       "</div>"
      ],
      "text/plain": [
       "    season  fpl_game_week            team         opponent  team_goals   \n",
       "0  2017-18              6         Watford     Swansea City         2.0  \\\n",
       "1  2017-18              6    Swansea City          Watford         1.0   \n",
       "2  2017-18              6         Burnley     Huddersfield         0.0   \n",
       "3  2017-18              6    Huddersfield          Burnley         0.0   \n",
       "4  2017-18              6  Crystal Palace  Manchester City         0.0   \n",
       "\n",
       "   opponent_goals  pred_goals_scored  pred_goals_conceded  clean_sheet   \n",
       "0             1.0           1.213222             1.545529            0  \\\n",
       "1             2.0           1.545529             1.213222            0   \n",
       "2             0.0           1.534140             0.882562            1   \n",
       "3             0.0           0.882562             1.534140            1   \n",
       "4             5.0           0.389978             2.447532            0   \n",
       "\n",
       "   cleen_sheet_prob  \n",
       "0          0.237033  \n",
       "1          0.324177  \n",
       "2          0.377977  \n",
       "3          0.207109  \n",
       "4          0.010000  "
      ]
     },
     "execution_count": 18,
     "metadata": {},
     "output_type": "execute_result"
    }
   ],
   "source": [
    "predict_goals.head()"
   ]
  },
  {
   "cell_type": "markdown",
   "id": "04a2ee84",
   "metadata": {},
   "source": [
    "Export for later use."
   ]
  },
  {
   "cell_type": "code",
   "execution_count": 28,
   "id": "e8d70c5d",
   "metadata": {},
   "outputs": [],
   "source": [
    "predict_goals.to_csv('predict_goals_cs.csv', index=False)"
   ]
  },
  {
   "cell_type": "code",
   "execution_count": 19,
   "id": "d85fe3a4",
   "metadata": {},
   "outputs": [],
   "source": [
    "game_weeks = [i for i in range(1,39)]"
   ]
  },
  {
   "cell_type": "code",
   "execution_count": 20,
   "id": "f593c322",
   "metadata": {},
   "outputs": [],
   "source": [
    "opponent_goals = predict_goals.query('season == \"2018-19\"')[['fpl_game_week', 'team', 'opponent_goals']]"
   ]
  },
  {
   "cell_type": "code",
   "execution_count": 21,
   "id": "4c93fc82",
   "metadata": {},
   "outputs": [],
   "source": [
    "def get_data():\n",
    "    df = pd.read_csv(fr\"data\\predicting_weekly_team_goals\\2018-19\\game_week_{week}.csv\")\n",
    "    return pd.merge(df, opponent_goals, right_on=['team', 'fpl_game_week'], left_on=['team', 'fpl_gw'])"
   ]
  },
  {
   "cell_type": "code",
   "execution_count": 22,
   "id": "8453508c",
   "metadata": {},
   "outputs": [],
   "source": [
    "def set_cs(df):\n",
    "    # if teams play 2 games in a gameweek devide by 2 to get individual game clean sheet prob\n",
    "    df.loc[df['count']==2, 'scored'] = df.scored / 2\n",
    "    df.loc[df['count']==2, 'conceded'] = df.scored / 2\n",
    "    predict_goals['clean_sheet'] = (predict_goals.opponent_goals == 0).astype(int)\n",
    "    return df"
   ]
  },
  {
   "cell_type": "code",
   "execution_count": 23,
   "id": "3baa418f",
   "metadata": {},
   "outputs": [],
   "source": [
    "def predict(df):\n",
    "    x = df[['scored', 'conceded']]\n",
    "    x.columns = ['pred_goals_scored', 'pred_goals_conceded']\n",
    "    x = x[x.columns[0:]] \n",
    "    ss = preprocessing.StandardScaler()\n",
    "    x = pd.DataFrame(ss.fit_transform(x),columns = x.columns)\n",
    "    \n",
    "    df['cleen_sheet_prob'] = reg_bay.predict(x)\n",
    "    df.loc[df.cleen_sheet_prob<.01, 'cleen_sheet_prob'] = 0.01\n",
    "    df.loc[df['count']==2, 'cleen_sheet_prob'] = df.cleen_sheet_prob * 2\n",
    "    df.loc[df['count']==2, 'scored'] = df.scored * 2\n",
    "    df.loc[df['count']==2, 'conceded'] = df.conceded * 2\n",
    "    return df"
   ]
  },
  {
   "cell_type": "code",
   "execution_count": 24,
   "id": "9685f371",
   "metadata": {},
   "outputs": [],
   "source": [
    "def export(df):\n",
    "    cols = ['count', 'fpl_game_week', 'team', 'scored','conceded', 'cleen_sheet_prob', 'date']\n",
    "    df[cols].drop_duplicates().to_csv(f'predicting_weekly_team_clean_sheet/2018-19/game_week_clean_sheet_{week}.csv', index=False)"
   ]
  },
  {
   "cell_type": "code",
   "execution_count": 25,
   "id": "7b3ca0bb",
   "metadata": {},
   "outputs": [],
   "source": [
    "def main(week):\n",
    "    return (get_data()\n",
    "            .pipe(set_cs)\n",
    "            .pipe(predict)\n",
    "            .pipe(export))"
   ]
  },
  {
   "cell_type": "code",
   "execution_count": 26,
   "id": "3c9c4c98",
   "metadata": {},
   "outputs": [],
   "source": [
    "for week in game_weeks:\n",
    "    main(week)"
   ]
  },
  {
   "cell_type": "markdown",
   "id": "390ad9ad",
   "metadata": {},
   "source": [
    "Now that we have successfully predicted goals, conceded goals, and clean sheet probabilities, we can proceed to the next notebook, where we will focus on predicting individual player points."
   ]
  }
 ],
 "metadata": {
  "kernelspec": {
   "display_name": "Python 3 (ipykernel)",
   "language": "python",
   "name": "python3"
  },
  "language_info": {
   "codemirror_mode": {
    "name": "ipython",
    "version": 3
   },
   "file_extension": ".py",
   "mimetype": "text/x-python",
   "name": "python",
   "nbconvert_exporter": "python",
   "pygments_lexer": "ipython3",
   "version": "3.10.11"
  }
 },
 "nbformat": 4,
 "nbformat_minor": 5
}
